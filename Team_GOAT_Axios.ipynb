{
 "cells": [
  {
   "cell_type": "code",
   "execution_count": 3,
   "metadata": {
    "execution": {
     "iopub.execute_input": "2020-11-29T02:06:56.070579Z",
     "iopub.status.busy": "2020-11-29T02:06:56.069705Z",
     "iopub.status.idle": "2020-11-29T02:06:57.703285Z",
     "shell.execute_reply": "2020-11-29T02:06:57.701590Z"
    },
    "papermill": {
     "duration": 1.691296,
     "end_time": "2020-11-29T02:06:57.703418",
     "exception": false,
     "start_time": "2020-11-29T02:06:56.012122",
     "status": "completed"
    },
    "tags": []
   },
   "outputs": [],
   "source": [
    "import os\n",
    "import sys\n",
    "import copy\n",
    "import tqdm\n",
    "import pickle\n",
    "import random\n",
    "import warnings\n",
    "warnings.filterwarnings(\"ignore\")\n",
    "\n",
    "import numpy as np\n",
    "import pandas as pd\n",
    "from scipy import stats\n",
    "import seaborn as sns\n",
    "import matplotlib.pyplot as plt\n",
    "plt.style.use(\"fivethirtyeight\")\n",
    "\n",
    "from sklearn.decomposition import PCA\n",
    "from sklearn.preprocessing import LabelEncoder\n",
    "from sklearn.metrics import roc_auc_score, log_loss\n",
    "from sklearn.preprocessing import QuantileTransformer\n",
    "from sklearn.feature_selection import VarianceThreshold\n",
    "from iterstrat.ml_stratifiers import MultilabelStratifiedKFold\n",
    "\n",
    "import torch\n",
    "from torch import nn\n",
    "import torch.optim as optim\n",
    "from torch.nn import functional as F\n",
    "from torch.nn.modules.loss import _WeightedLoss\n",
    "from torch.utils.data import DataLoader, Dataset\n",
    "from torch.optim.lr_scheduler import ReduceLROnPlateau\n",
    "\n",
    "from pytorch_tabnet.metrics import Metric\n",
    "from pytorch_tabnet.tab_model import TabNetRegressor\n",
    "\n",
    "from colorama import Fore\n",
    "c_ = Fore.CYAN\n",
    "m_ = Fore.MAGENTA\n",
    "r_ = Fore.RED\n",
    "b_ = Fore.BLUE\n",
    "y_ = Fore.YELLOW\n",
    "g_ = Fore.GREEN"
   ]
  },
  {
   "cell_type": "code",
   "execution_count": 4,
   "metadata": {
    "execution": {
     "iopub.execute_input": "2020-11-29T02:06:57.797687Z",
     "iopub.status.busy": "2020-11-29T02:06:57.796060Z",
     "iopub.status.idle": "2020-11-29T02:06:57.798457Z",
     "shell.execute_reply": "2020-11-29T02:06:57.799017Z"
    },
    "papermill": {
     "duration": 0.052587,
     "end_time": "2020-11-29T02:06:57.799177",
     "exception": false,
     "start_time": "2020-11-29T02:06:57.746590",
     "status": "completed"
    },
    "tags": []
   },
   "outputs": [],
   "source": [
    "no_ctl = True\n",
    "scale = \"rankgauss\"\n",
    "variance_threshould = 0.7\n",
    "decompo = \"PCA\"\n",
    "encoding = \"dummy\""
   ]
  },
  {
   "cell_type": "code",
   "execution_count": 5,
   "metadata": {
    "execution": {
     "iopub.execute_input": "2020-11-29T02:06:57.894826Z",
     "iopub.status.busy": "2020-11-29T02:06:57.893966Z",
     "iopub.status.idle": "2020-11-29T02:06:58.278404Z",
     "shell.execute_reply": "2020-11-29T02:06:58.277742Z"
    },
    "papermill": {
     "duration": 0.436061,
     "end_time": "2020-11-29T02:06:58.278538",
     "exception": false,
     "start_time": "2020-11-29T02:06:57.842477",
     "status": "completed"
    },
    "tags": []
   },
   "outputs": [],
   "source": [
    "seed = 42\n",
    "import random\n",
    "def set_seed(seed):\n",
    "    random.seed(seed)\n",
    "    np.random.seed(seed)\n",
    "    torch.manual_seed(seed)\n",
    "    os.environ[\"PYTHONHASHSEED\"] = str(seed)\n",
    "    \n",
    "    if torch.cuda.is_available():\n",
    "        torch.cuda.manual_seed(seed)\n",
    "        torch.cuda.manual_seed_all(seed)\n",
    "        torch.backends.cudnn.deterministic = True\n",
    "        torch.backends.cudnn.benchmark = False\n",
    "set_seed(seed)"
   ]
  },
  {
   "cell_type": "code",
   "execution_count": 6,
   "metadata": {
    "execution": {
     "iopub.execute_input": "2020-11-29T02:06:58.374435Z",
     "iopub.status.busy": "2020-11-29T02:06:58.373276Z",
     "iopub.status.idle": "2020-11-29T02:07:05.234489Z",
     "shell.execute_reply": "2020-11-29T02:07:05.233487Z"
    },
    "papermill": {
     "duration": 6.912376,
     "end_time": "2020-11-29T02:07:05.234628",
     "exception": false,
     "start_time": "2020-11-29T02:06:58.322252",
     "status": "completed"
    },
    "tags": []
   },
   "outputs": [],
   "source": [
    "train = pd.read_csv('/content/drive/MyDrive/Machine Learning/train_features.csv')\n",
    "targets = pd.read_csv('/content/drive/MyDrive/Machine Learning/train_targets_scored.csv')\n",
    "test = pd.read_csv('/content/drive/MyDrive/Machine Learning/test_features.csv')"
   ]
  },
  {
   "cell_type": "code",
   "execution_count": 7,
   "metadata": {
    "execution": {
     "iopub.execute_input": "2020-11-29T02:07:05.334248Z",
     "iopub.status.busy": "2020-11-29T02:07:05.333281Z",
     "iopub.status.idle": "2020-11-29T02:07:05.435947Z",
     "shell.execute_reply": "2020-11-29T02:07:05.436539Z"
    },
    "papermill": {
     "duration": 0.158355,
     "end_time": "2020-11-29T02:07:05.436736",
     "exception": false,
     "start_time": "2020-11-29T02:07:05.278381",
     "status": "completed"
    },
    "tags": []
   },
   "outputs": [
    {
     "name": "stdout",
     "output_type": "stream",
     "text": [
      "\u001b[34m not_ctl\n"
     ]
    }
   ],
   "source": [
    "if no_ctl:\n",
    "\n",
    "    print(b_, \"not_ctl\")\n",
    "    train = train[train[\"cp_type\"] != \"ctl_vehicle\"]\n",
    "    test = test[test[\"cp_type\"] != \"ctl_vehicle\"]\n",
    "    targets = targets.iloc[train.index]\n",
    "    train.reset_index(drop = True, inplace = True)\n",
    "    test.reset_index(drop = True, inplace = True)\n",
    "    targets.reset_index(drop = True, inplace = True)"
   ]
  },
  {
   "cell_type": "code",
   "execution_count": 8,
   "metadata": {
    "execution": {
     "iopub.execute_input": "2020-11-29T02:07:05.534074Z",
     "iopub.status.busy": "2020-11-29T02:07:05.532609Z",
     "iopub.status.idle": "2020-11-29T02:07:05.537136Z",
     "shell.execute_reply": "2020-11-29T02:07:05.537694Z"
    },
    "papermill": {
     "duration": 0.056999,
     "end_time": "2020-11-29T02:07:05.537831",
     "exception": false,
     "start_time": "2020-11-29T02:07:05.480832",
     "status": "completed"
    },
    "tags": []
   },
   "outputs": [
    {
     "data": {
      "text/plain": [
       "(21948, 876)"
      ]
     },
     "execution_count": 8,
     "metadata": {},
     "output_type": "execute_result"
    }
   ],
   "source": [
    "train.shape"
   ]
  },
  {
   "cell_type": "code",
   "execution_count": 9,
   "metadata": {
    "execution": {
     "iopub.execute_input": "2020-11-29T02:07:05.632751Z",
     "iopub.status.busy": "2020-11-29T02:07:05.632021Z",
     "iopub.status.idle": "2020-11-29T02:07:05.638742Z",
     "shell.execute_reply": "2020-11-29T02:07:05.638142Z"
    },
    "papermill": {
     "duration": 0.056545,
     "end_time": "2020-11-29T02:07:05.638862",
     "exception": false,
     "start_time": "2020-11-29T02:07:05.582317",
     "status": "completed"
    },
    "tags": []
   },
   "outputs": [
    {
     "data": {
      "text/plain": [
       "(3624, 876)"
      ]
     },
     "execution_count": 9,
     "metadata": {},
     "output_type": "execute_result"
    }
   ],
   "source": [
    "test.shape"
   ]
  },
  {
   "cell_type": "code",
   "execution_count": 10,
   "metadata": {
    "execution": {
     "iopub.execute_input": "2020-11-29T02:07:05.733745Z",
     "iopub.status.busy": "2020-11-29T02:07:05.733034Z",
     "iopub.status.idle": "2020-11-29T02:07:05.739333Z",
     "shell.execute_reply": "2020-11-29T02:07:05.738739Z"
    },
    "papermill": {
     "duration": 0.055372,
     "end_time": "2020-11-29T02:07:05.739442",
     "exception": false,
     "start_time": "2020-11-29T02:07:05.684070",
     "status": "completed"
    },
    "tags": []
   },
   "outputs": [
    {
     "data": {
      "text/plain": [
       "(21948, 207)"
      ]
     },
     "execution_count": 10,
     "metadata": {},
     "output_type": "execute_result"
    }
   ],
   "source": [
    "targets.shape"
   ]
  },
  {
   "cell_type": "code",
   "execution_count": 11,
   "metadata": {
    "execution": {
     "iopub.execute_input": "2020-11-29T02:07:05.837918Z",
     "iopub.status.busy": "2020-11-29T02:07:05.837138Z",
     "iopub.status.idle": "2020-11-29T02:07:05.841271Z",
     "shell.execute_reply": "2020-11-29T02:07:05.841807Z"
    },
    "papermill": {
     "duration": 0.056661,
     "end_time": "2020-11-29T02:07:05.841946",
     "exception": false,
     "start_time": "2020-11-29T02:07:05.785285",
     "status": "completed"
    },
    "tags": []
   },
   "outputs": [],
   "source": [
    "GENES = [col for col in train.columns if col.startswith(\"g-\")]\n",
    "CELLS = [col for col in train.columns if col.startswith(\"c-\")]"
   ]
  },
  {
   "cell_type": "code",
   "execution_count": 12,
   "metadata": {
    "execution": {
     "iopub.execute_input": "2020-11-29T02:07:05.947989Z",
     "iopub.status.busy": "2020-11-29T02:07:05.945962Z",
     "iopub.status.idle": "2020-11-29T02:07:06.344410Z",
     "shell.execute_reply": "2020-11-29T02:07:06.343765Z"
    },
    "papermill": {
     "duration": 0.457016,
     "end_time": "2020-11-29T02:07:06.344534",
     "exception": false,
     "start_time": "2020-11-29T02:07:05.887518",
     "status": "completed"
    },
    "tags": []
   },
   "outputs": [],
   "source": [
    "data_all = pd.concat([train, test], ignore_index = True)\n",
    "cols_numeric = [feat for feat in list(data_all.columns) if feat not in [\"sig_id\", \"cp_type\", \"cp_time\", \"cp_dose\"]]\n",
    "mask = (data_all[cols_numeric].var() >= variance_threshould).values\n",
    "tmp = data_all[cols_numeric].loc[:, mask]\n",
    "data_all = pd.concat([data_all[[\"sig_id\", \"cp_type\", \"cp_time\", \"cp_dose\"]], tmp], axis = 1)\n",
    "cols_numeric = [feat for feat in list(data_all.columns) if feat not in [\"sig_id\", \"cp_type\", \"cp_time\", \"cp_dose\"]]"
   ]
  },
  {
   "cell_type": "code",
   "execution_count": 13,
   "metadata": {
    "execution": {
     "iopub.execute_input": "2020-11-29T02:07:06.445031Z",
     "iopub.status.busy": "2020-11-29T02:07:06.444196Z",
     "iopub.status.idle": "2020-11-29T02:07:06.450483Z",
     "shell.execute_reply": "2020-11-29T02:07:06.449934Z"
    },
    "papermill": {
     "duration": 0.05974,
     "end_time": "2020-11-29T02:07:06.450601",
     "exception": false,
     "start_time": "2020-11-29T02:07:06.390861",
     "status": "completed"
    },
    "tags": []
   },
   "outputs": [
    {
     "data": {
      "text/plain": [
       "(25572, 841)"
      ]
     },
     "execution_count": 13,
     "metadata": {},
     "output_type": "execute_result"
    }
   ],
   "source": [
    "data_all.shape"
   ]
  },
  {
   "cell_type": "code",
   "execution_count": 14,
   "metadata": {
    "execution": {
     "iopub.execute_input": "2020-11-29T02:07:06.565436Z",
     "iopub.status.busy": "2020-11-29T02:07:06.549998Z",
     "iopub.status.idle": "2020-11-29T02:07:06.583883Z",
     "shell.execute_reply": "2020-11-29T02:07:06.583289Z"
    },
    "papermill": {
     "duration": 0.086819,
     "end_time": "2020-11-29T02:07:06.584006",
     "exception": false,
     "start_time": "2020-11-29T02:07:06.497187",
     "status": "completed"
    },
    "tags": []
   },
   "outputs": [
    {
     "data": {
      "text/html": [
       "<div>\n",
       "<style scoped>\n",
       "    .dataframe tbody tr th:only-of-type {\n",
       "        vertical-align: middle;\n",
       "    }\n",
       "\n",
       "    .dataframe tbody tr th {\n",
       "        vertical-align: top;\n",
       "    }\n",
       "\n",
       "    .dataframe thead th {\n",
       "        text-align: right;\n",
       "    }\n",
       "</style>\n",
       "<table border=\"1\" class=\"dataframe\">\n",
       "  <thead>\n",
       "    <tr style=\"text-align: right;\">\n",
       "      <th></th>\n",
       "      <th>sig_id</th>\n",
       "      <th>cp_type</th>\n",
       "      <th>cp_time</th>\n",
       "      <th>cp_dose</th>\n",
       "      <th>g-0</th>\n",
       "      <th>g-2</th>\n",
       "      <th>g-3</th>\n",
       "      <th>g-4</th>\n",
       "      <th>g-5</th>\n",
       "      <th>g-6</th>\n",
       "      <th>...</th>\n",
       "      <th>c-90</th>\n",
       "      <th>c-91</th>\n",
       "      <th>c-92</th>\n",
       "      <th>c-93</th>\n",
       "      <th>c-94</th>\n",
       "      <th>c-95</th>\n",
       "      <th>c-96</th>\n",
       "      <th>c-97</th>\n",
       "      <th>c-98</th>\n",
       "      <th>c-99</th>\n",
       "    </tr>\n",
       "  </thead>\n",
       "  <tbody>\n",
       "    <tr>\n",
       "      <th>0</th>\n",
       "      <td>id_000644bb2</td>\n",
       "      <td>trt_cp</td>\n",
       "      <td>24</td>\n",
       "      <td>D1</td>\n",
       "      <td>1.0620</td>\n",
       "      <td>-0.2479</td>\n",
       "      <td>-0.6208</td>\n",
       "      <td>-0.1944</td>\n",
       "      <td>-1.0120</td>\n",
       "      <td>-1.0220</td>\n",
       "      <td>...</td>\n",
       "      <td>0.2862</td>\n",
       "      <td>0.2584</td>\n",
       "      <td>0.8076</td>\n",
       "      <td>0.5523</td>\n",
       "      <td>-0.1912</td>\n",
       "      <td>0.6584</td>\n",
       "      <td>-0.3981</td>\n",
       "      <td>0.2139</td>\n",
       "      <td>0.3801</td>\n",
       "      <td>0.4176</td>\n",
       "    </tr>\n",
       "    <tr>\n",
       "      <th>1</th>\n",
       "      <td>id_000779bfc</td>\n",
       "      <td>trt_cp</td>\n",
       "      <td>72</td>\n",
       "      <td>D1</td>\n",
       "      <td>0.0743</td>\n",
       "      <td>0.2991</td>\n",
       "      <td>0.0604</td>\n",
       "      <td>1.0190</td>\n",
       "      <td>0.5207</td>\n",
       "      <td>0.2341</td>\n",
       "      <td>...</td>\n",
       "      <td>-0.4265</td>\n",
       "      <td>0.7543</td>\n",
       "      <td>0.4708</td>\n",
       "      <td>0.0230</td>\n",
       "      <td>0.2957</td>\n",
       "      <td>0.4899</td>\n",
       "      <td>0.1522</td>\n",
       "      <td>0.1241</td>\n",
       "      <td>0.6077</td>\n",
       "      <td>0.7371</td>\n",
       "    </tr>\n",
       "    <tr>\n",
       "      <th>2</th>\n",
       "      <td>id_000a6266a</td>\n",
       "      <td>trt_cp</td>\n",
       "      <td>48</td>\n",
       "      <td>D1</td>\n",
       "      <td>0.6280</td>\n",
       "      <td>1.5540</td>\n",
       "      <td>-0.0764</td>\n",
       "      <td>-0.0323</td>\n",
       "      <td>1.2390</td>\n",
       "      <td>0.1715</td>\n",
       "      <td>...</td>\n",
       "      <td>-0.7250</td>\n",
       "      <td>-0.6297</td>\n",
       "      <td>0.6103</td>\n",
       "      <td>0.0223</td>\n",
       "      <td>-1.3240</td>\n",
       "      <td>-0.3174</td>\n",
       "      <td>-0.6417</td>\n",
       "      <td>-0.2187</td>\n",
       "      <td>-1.4080</td>\n",
       "      <td>0.6931</td>\n",
       "    </tr>\n",
       "    <tr>\n",
       "      <th>3</th>\n",
       "      <td>id_0015fd391</td>\n",
       "      <td>trt_cp</td>\n",
       "      <td>48</td>\n",
       "      <td>D1</td>\n",
       "      <td>-0.5138</td>\n",
       "      <td>-0.2656</td>\n",
       "      <td>0.5288</td>\n",
       "      <td>4.0620</td>\n",
       "      <td>-0.8095</td>\n",
       "      <td>-1.9590</td>\n",
       "      <td>...</td>\n",
       "      <td>-2.0990</td>\n",
       "      <td>-0.6441</td>\n",
       "      <td>-5.6300</td>\n",
       "      <td>-1.3780</td>\n",
       "      <td>-0.8632</td>\n",
       "      <td>-1.2880</td>\n",
       "      <td>-1.6210</td>\n",
       "      <td>-0.8784</td>\n",
       "      <td>-0.3876</td>\n",
       "      <td>-0.8154</td>\n",
       "    </tr>\n",
       "    <tr>\n",
       "      <th>4</th>\n",
       "      <td>id_001626bd3</td>\n",
       "      <td>trt_cp</td>\n",
       "      <td>72</td>\n",
       "      <td>D2</td>\n",
       "      <td>-0.3254</td>\n",
       "      <td>0.9700</td>\n",
       "      <td>0.6919</td>\n",
       "      <td>1.4180</td>\n",
       "      <td>-0.8244</td>\n",
       "      <td>-0.2800</td>\n",
       "      <td>...</td>\n",
       "      <td>0.0042</td>\n",
       "      <td>0.0048</td>\n",
       "      <td>0.6670</td>\n",
       "      <td>1.0690</td>\n",
       "      <td>0.5523</td>\n",
       "      <td>-0.3031</td>\n",
       "      <td>0.1094</td>\n",
       "      <td>0.2885</td>\n",
       "      <td>-0.3786</td>\n",
       "      <td>0.7125</td>\n",
       "    </tr>\n",
       "  </tbody>\n",
       "</table>\n",
       "<p>5 rows × 841 columns</p>\n",
       "</div>"
      ],
      "text/plain": [
       "         sig_id cp_type  cp_time cp_dose     g-0     g-2     g-3     g-4  \\\n",
       "0  id_000644bb2  trt_cp       24      D1  1.0620 -0.2479 -0.6208 -0.1944   \n",
       "1  id_000779bfc  trt_cp       72      D1  0.0743  0.2991  0.0604  1.0190   \n",
       "2  id_000a6266a  trt_cp       48      D1  0.6280  1.5540 -0.0764 -0.0323   \n",
       "3  id_0015fd391  trt_cp       48      D1 -0.5138 -0.2656  0.5288  4.0620   \n",
       "4  id_001626bd3  trt_cp       72      D2 -0.3254  0.9700  0.6919  1.4180   \n",
       "\n",
       "      g-5     g-6  ...    c-90    c-91    c-92    c-93    c-94    c-95  \\\n",
       "0 -1.0120 -1.0220  ...  0.2862  0.2584  0.8076  0.5523 -0.1912  0.6584   \n",
       "1  0.5207  0.2341  ... -0.4265  0.7543  0.4708  0.0230  0.2957  0.4899   \n",
       "2  1.2390  0.1715  ... -0.7250 -0.6297  0.6103  0.0223 -1.3240 -0.3174   \n",
       "3 -0.8095 -1.9590  ... -2.0990 -0.6441 -5.6300 -1.3780 -0.8632 -1.2880   \n",
       "4 -0.8244 -0.2800  ...  0.0042  0.0048  0.6670  1.0690  0.5523 -0.3031   \n",
       "\n",
       "     c-96    c-97    c-98    c-99  \n",
       "0 -0.3981  0.2139  0.3801  0.4176  \n",
       "1  0.1522  0.1241  0.6077  0.7371  \n",
       "2 -0.6417 -0.2187 -1.4080  0.6931  \n",
       "3 -1.6210 -0.8784 -0.3876 -0.8154  \n",
       "4  0.1094  0.2885 -0.3786  0.7125  \n",
       "\n",
       "[5 rows x 841 columns]"
      ]
     },
     "execution_count": 14,
     "metadata": {},
     "output_type": "execute_result"
    }
   ],
   "source": [
    "data_all.head()"
   ]
  },
  {
   "cell_type": "code",
   "execution_count": 15,
   "metadata": {
    "execution": {
     "iopub.execute_input": "2020-11-29T02:07:06.709718Z",
     "iopub.status.busy": "2020-11-29T02:07:06.698795Z",
     "iopub.status.idle": "2020-11-29T02:07:06.716514Z",
     "shell.execute_reply": "2020-11-29T02:07:06.717053Z"
    },
    "papermill": {
     "duration": 0.085422,
     "end_time": "2020-11-29T02:07:06.717209",
     "exception": false,
     "start_time": "2020-11-29T02:07:06.631787",
     "status": "completed"
    },
    "tags": []
   },
   "outputs": [],
   "source": [
    "import numpy as np\n",
    "from joblib import Parallel, delayed\n",
    "from scipy.interpolate import interp1d\n",
    "from scipy.special import erf, erfinv\n",
    "from sklearn.base import BaseEstimator, TransformerMixin\n",
    "from sklearn.utils.validation import FLOAT_DTYPES, check_array, check_is_fitted\n",
    "\n",
    "\n",
    "class GaussRankScaler(BaseEstimator, TransformerMixin):\n",
    "    \n",
    "\n",
    "    def __init__(self, epsilon=1e-4, copy=True, n_jobs=None, interp_kind='linear', interp_copy=False):\n",
    "        self.epsilon = epsilon\n",
    "        self.copy = copy\n",
    "        self.interp_kind = interp_kind\n",
    "        self.interp_copy = interp_copy\n",
    "        self.fill_value = 'extrapolate'\n",
    "        self.n_jobs = n_jobs\n",
    "\n",
    "    def fit(self, X, y=None):\n",
    "   \n",
    "        X = check_array(X, copy=self.copy, estimator=self, dtype=FLOAT_DTYPES, force_all_finite=True)\n",
    "\n",
    "        self.interp_func_ = Parallel(n_jobs=self.n_jobs)(delayed(self._fit)(x) for x in X.T)\n",
    "        return self\n",
    "\n",
    "    def _fit(self, x):\n",
    "        x = self.drop_duplicates(x)\n",
    "        rank = np.argsort(np.argsort(x))\n",
    "        bound = 1.0 - self.epsilon\n",
    "        factor = np.max(rank) / 2.0 * bound\n",
    "        scaled_rank = np.clip(rank / factor - bound, -bound, bound)\n",
    "        return interp1d(\n",
    "            x, scaled_rank, kind=self.interp_kind, copy=self.interp_copy, fill_value=self.fill_value)\n",
    "\n",
    "    def transform(self, X, copy=None):\n",
    "    \n",
    "        check_is_fitted(self, 'interp_func_')\n",
    "\n",
    "        copy = copy if copy is not None else self.copy\n",
    "        X = check_array(X, copy=copy, estimator=self, dtype=FLOAT_DTYPES, force_all_finite=True)\n",
    "\n",
    "        X = np.array(Parallel(n_jobs=self.n_jobs)(delayed(self._transform)(i, x) for i, x in enumerate(X.T))).T\n",
    "        return X\n",
    "\n",
    "    def _transform(self, i, x):\n",
    "        return erfinv(self.interp_func_[i](x))\n",
    "\n",
    "    def inverse_transform(self, X, copy=None):\n",
    " \n",
    "        check_is_fitted(self, 'interp_func_')\n",
    "\n",
    "        copy = copy if copy is not None else self.copy\n",
    "        X = check_array(X, copy=copy, estimator=self, dtype=FLOAT_DTYPES, force_all_finite=True)\n",
    "\n",
    "        X = np.array(Parallel(n_jobs=self.n_jobs)(delayed(self._inverse_transform)(i, x) for i, x in enumerate(X.T))).T\n",
    "        return X\n",
    "\n",
    "    def _inverse_transform(self, i, x):\n",
    "        inv_interp_func = interp1d(self.interp_func_[i].y, self.interp_func_[i].x, kind=self.interp_kind,\n",
    "                                   copy=self.interp_copy, fill_value=self.fill_value)\n",
    "        return inv_interp_func(erf(x))\n",
    "\n",
    "    @staticmethod\n",
    "    def drop_duplicates(x):\n",
    "        is_unique = np.zeros_like(x, dtype=bool)\n",
    "        is_unique[np.unique(x, return_index=True)[1]] = True\n",
    "        return x[is_unique]"
   ]
  },
  {
   "cell_type": "code",
   "execution_count": 17,
   "metadata": {
    "execution": {
     "iopub.execute_input": "2020-11-29T02:07:06.935789Z",
     "iopub.status.busy": "2020-11-29T02:07:06.934319Z",
     "iopub.status.idle": "2020-11-29T02:07:25.711227Z",
     "shell.execute_reply": "2020-11-29T02:07:25.710578Z"
    },
    "papermill": {
     "duration": 18.841794,
     "end_time": "2020-11-29T02:07:25.711367",
     "exception": false,
     "start_time": "2020-11-29T02:07:06.869573",
     "status": "completed"
    },
    "tags": []
   },
   "outputs": [
    {
     "name": "stdout",
     "output_type": "stream",
     "text": [
      "\u001b[34m Rank Gauss\n"
     ]
    }
   ],
   "source": [
    "def scale_minmax(col):\n",
    "    return (col - col.min()) / (col.max() - col.min())\n",
    "\n",
    "def scale_norm(col):\n",
    "    return (col - col.mean()) / col.std()\n",
    "\n",
    "if scale == \"boxcox\":\n",
    "    print(b_, \"boxcox\")\n",
    "    data_all[cols_numeric] = data_all[cols_numeric].apply(scale_minmax, axis = 0)\n",
    "    trans = []\n",
    "    for feat in cols_numeric:\n",
    "        trans_var, lambda_var = stats.boxcox(data_all[feat].dropna() + 1)\n",
    "        trans.append(scale_minmax(trans_var))\n",
    "    data_all[cols_numeric] = np.asarray(trans).T\n",
    "    \n",
    "elif scale == \"norm\":\n",
    "    print(b_, \"norm\")\n",
    "    data_all[cols_numeric] = data_all[cols_numeric].apply(scale_norm, axis = 0)\n",
    "    \n",
    "elif scale == \"minmax\":\n",
    "    print(b_, \"minmax\")\n",
    "    data_all[cols_numeric] = data_all[cols_numeric].apply(scale_minmax, axis = 0)\n",
    "    \n",
    "elif scale == \"rankgauss\":\n",
    "    print(b_, \"Rank Gauss\")\n",
    "    scaler = GaussRankScaler()\n",
    "    data_all[cols_numeric] = scaler.fit_transform(data_all[cols_numeric])\n",
    "    \n",
    "else:\n",
    "    pass"
   ]
  },
  {
   "cell_type": "code",
   "execution_count": 18,
   "metadata": {
    "execution": {
     "iopub.execute_input": "2020-11-29T02:07:25.815585Z",
     "iopub.status.busy": "2020-11-29T02:07:25.814633Z",
     "iopub.status.idle": "2020-11-29T02:07:25.818606Z",
     "shell.execute_reply": "2020-11-29T02:07:25.819242Z"
    },
    "papermill": {
     "duration": 0.058547,
     "end_time": "2020-11-29T02:07:25.819393",
     "exception": false,
     "start_time": "2020-11-29T02:07:25.760846",
     "status": "completed"
    },
    "tags": []
   },
   "outputs": [
    {
     "data": {
      "text/plain": [
       "(25572, 841)"
      ]
     },
     "execution_count": 18,
     "metadata": {},
     "output_type": "execute_result"
    }
   ],
   "source": [
    "data_all.shape"
   ]
  },
  {
   "cell_type": "code",
   "execution_count": 20,
   "metadata": {
    "execution": {
     "iopub.execute_input": "2020-11-29T02:07:26.033567Z",
     "iopub.status.busy": "2020-11-29T02:07:26.032636Z",
     "iopub.status.idle": "2020-11-29T02:07:26.036093Z",
     "shell.execute_reply": "2020-11-29T02:07:26.035518Z"
    },
    "papermill": {
     "duration": 0.058781,
     "end_time": "2020-11-29T02:07:26.036211",
     "exception": false,
     "start_time": "2020-11-29T02:07:25.977430",
     "status": "completed"
    },
    "tags": []
   },
   "outputs": [],
   "source": [
    "GENES = [col for col in data_all.columns if col.startswith('g-')]\n",
    "CELLS = [col for col in data_all.columns if col.startswith('c-')]"
   ]
  },
  {
   "cell_type": "code",
   "execution_count": 21,
   "metadata": {
    "execution": {
     "iopub.execute_input": "2020-11-29T02:07:26.190362Z",
     "iopub.status.busy": "2020-11-29T02:07:26.142474Z",
     "iopub.status.idle": "2020-11-29T02:07:26.193869Z",
     "shell.execute_reply": "2020-11-29T02:07:26.194446Z"
    },
    "papermill": {
     "duration": 0.108732,
     "end_time": "2020-11-29T02:07:26.194593",
     "exception": false,
     "start_time": "2020-11-29T02:07:26.085861",
     "status": "completed"
    },
    "tags": []
   },
   "outputs": [
    {
     "data": {
      "text/plain": [
       "(25572, 737)"
      ]
     },
     "execution_count": 21,
     "metadata": {},
     "output_type": "execute_result"
    }
   ],
   "source": [
    "data_all[GENES].shape"
   ]
  },
  {
   "cell_type": "code",
   "execution_count": 22,
   "metadata": {
    "execution": {
     "iopub.execute_input": "2020-11-29T02:07:26.346900Z",
     "iopub.status.busy": "2020-11-29T02:07:26.345839Z",
     "iopub.status.idle": "2020-11-29T02:07:26.349199Z",
     "shell.execute_reply": "2020-11-29T02:07:26.348642Z"
    },
    "papermill": {
     "duration": 0.10475,
     "end_time": "2020-11-29T02:07:26.349320",
     "exception": false,
     "start_time": "2020-11-29T02:07:26.244570",
     "status": "completed"
    },
    "tags": []
   },
   "outputs": [],
   "source": [
    "data = data_all[GENES]"
   ]
  },
  {
   "cell_type": "code",
   "execution_count": 23,
   "metadata": {
    "execution": {
     "iopub.execute_input": "2020-11-29T02:07:26.471061Z",
     "iopub.status.busy": "2020-11-29T02:07:26.469842Z",
     "iopub.status.idle": "2020-11-29T02:07:30.743585Z",
     "shell.execute_reply": "2020-11-29T02:07:30.742221Z"
    },
    "papermill": {
     "duration": 4.344425,
     "end_time": "2020-11-29T02:07:30.743754",
     "exception": false,
     "start_time": "2020-11-29T02:07:26.399329",
     "status": "completed"
    },
    "tags": []
   },
   "outputs": [
    {
     "data": {
      "image/png": "[encoded data removed]",
      "text/plain": [
       "<Figure size 864x432 with 1 Axes>"
      ]
     },
     "metadata": {},
     "output_type": "display_data"
    }
   ],
   "source": [
    "pca = PCA().fit(data)\n",
    "\n",
    "import matplotlib.pyplot as plt\n",
    "plt.rcParams[\"figure.figsize\"] = (12,6)\n",
    "\n",
    "fig, ax = plt.subplots()\n",
    "xi = np.arange(1, 738, step=1)\n",
    "y = np.cumsum(pca.explained_variance_ratio_)\n",
    "\n",
    "plt.ylim(0.0,1.1)\n",
    "plt.plot(xi, y, marker='o', linestyle='--', color='b')\n",
    "\n",
    "plt.xlabel('Number of Components')\n",
    "plt.xticks(np.arange(0, 720, step=40)) \n",
    "plt.ylabel('Cumulative variance (%)')\n",
    "plt.title('The number of components needed to explain variance')\n",
    "\n",
    "plt.axhline(y=0.95, color='r', linestyle='-')\n",
    "plt.text(0.5, 0.85, '95% cut-off threshold', color = 'red', fontsize=16)\n",
    "\n",
    "ax.grid(axis='x')\n",
    "plt.show()"
   ]
  },
  {
   "cell_type": "code",
   "execution_count": 24,
   "metadata": {
    "execution": {
     "iopub.execute_input": "2020-11-29T02:07:30.862269Z",
     "iopub.status.busy": "2020-11-29T02:07:30.860582Z",
     "iopub.status.idle": "2020-11-29T02:07:30.864554Z",
     "shell.execute_reply": "2020-11-29T02:07:30.865114Z"
    },
    "papermill": {
     "duration": 0.063228,
     "end_time": "2020-11-29T02:07:30.865263",
     "exception": false,
     "start_time": "2020-11-29T02:07:30.802035",
     "status": "completed"
    },
    "tags": []
   },
   "outputs": [
    {
     "data": {
      "text/plain": [
       "(737,)"
      ]
     },
     "execution_count": 24,
     "metadata": {},
     "output_type": "execute_result"
    }
   ],
   "source": [
    "pca.explained_variance_ratio_.shape"
   ]
  },
  {
   "cell_type": "code",
   "execution_count": 25,
   "metadata": {
    "execution": {
     "iopub.execute_input": "2020-11-29T02:07:30.978140Z",
     "iopub.status.busy": "2020-11-29T02:07:30.977150Z",
     "iopub.status.idle": "2020-11-29T02:07:30.980563Z",
     "shell.execute_reply": "2020-11-29T02:07:30.979939Z"
    },
    "papermill": {
     "duration": 0.06335,
     "end_time": "2020-11-29T02:07:30.980697",
     "exception": false,
     "start_time": "2020-11-29T02:07:30.917347",
     "status": "completed"
    },
    "tags": []
   },
   "outputs": [],
   "source": [
    "pca_df=pd.DataFrame(xi, columns=['Num_of_comp'])\n",
    "pca_df['var']=y"
   ]
  },
  {
   "cell_type": "code",
   "execution_count": 26,
   "metadata": {
    "execution": {
     "iopub.execute_input": "2020-11-29T02:07:31.098039Z",
     "iopub.status.busy": "2020-11-29T02:07:31.097062Z",
     "iopub.status.idle": "2020-11-29T02:07:31.101057Z",
     "shell.execute_reply": "2020-11-29T02:07:31.101612Z"
    },
    "papermill": {
     "duration": 0.068297,
     "end_time": "2020-11-29T02:07:31.101991",
     "exception": false,
     "start_time": "2020-11-29T02:07:31.033694",
     "status": "completed"
    },
    "tags": []
   },
   "outputs": [
    {
     "data": {
      "text/html": [
       "<div>\n",
       "<style scoped>\n",
       "    .dataframe tbody tr th:only-of-type {\n",
       "        vertical-align: middle;\n",
       "    }\n",
       "\n",
       "    .dataframe tbody tr th {\n",
       "        vertical-align: top;\n",
       "    }\n",
       "\n",
       "    .dataframe thead th {\n",
       "        text-align: right;\n",
       "    }\n",
       "</style>\n",
       "<table border=\"1\" class=\"dataframe\">\n",
       "  <thead>\n",
       "    <tr style=\"text-align: right;\">\n",
       "      <th></th>\n",
       "      <th>Num_of_comp</th>\n",
       "      <th>var</th>\n",
       "    </tr>\n",
       "  </thead>\n",
       "  <tbody>\n",
       "    <tr>\n",
       "      <th>579</th>\n",
       "      <td>580</td>\n",
       "      <td>0.950372</td>\n",
       "    </tr>\n",
       "    <tr>\n",
       "      <th>580</th>\n",
       "      <td>581</td>\n",
       "      <td>0.950750</td>\n",
       "    </tr>\n",
       "    <tr>\n",
       "      <th>581</th>\n",
       "      <td>582</td>\n",
       "      <td>0.951128</td>\n",
       "    </tr>\n",
       "    <tr>\n",
       "      <th>582</th>\n",
       "      <td>583</td>\n",
       "      <td>0.951505</td>\n",
       "    </tr>\n",
       "    <tr>\n",
       "      <th>583</th>\n",
       "      <td>584</td>\n",
       "      <td>0.951881</td>\n",
       "    </tr>\n",
       "  </tbody>\n",
       "</table>\n",
       "</div>"
      ],
      "text/plain": [
       "     Num_of_comp       var\n",
       "579          580  0.950372\n",
       "580          581  0.950750\n",
       "581          582  0.951128\n",
       "582          583  0.951505\n",
       "583          584  0.951881"
      ]
     },
     "execution_count": 26,
     "metadata": {},
     "output_type": "execute_result"
    }
   ],
   "source": [
    "pca_df[pca_df['var']>=0.95].head()"
   ]
  },
  {
   "cell_type": "code",
   "execution_count": 27,
   "metadata": {
    "execution": {
     "iopub.execute_input": "2020-11-29T02:07:31.224552Z",
     "iopub.status.busy": "2020-11-29T02:07:31.223540Z",
     "iopub.status.idle": "2020-11-29T02:07:31.226909Z",
     "shell.execute_reply": "2020-11-29T02:07:31.226224Z"
    },
    "papermill": {
     "duration": 0.070329,
     "end_time": "2020-11-29T02:07:31.227026",
     "exception": false,
     "start_time": "2020-11-29T02:07:31.156697",
     "status": "completed"
    },
    "tags": []
   },
   "outputs": [],
   "source": [
    "data = data_all[CELLS]"
   ]
  },
  {
   "cell_type": "code",
   "execution_count": 28,
   "metadata": {
    "execution": {
     "iopub.execute_input": "2020-11-29T02:07:31.339627Z",
     "iopub.status.busy": "2020-11-29T02:07:31.338743Z",
     "iopub.status.idle": "2020-11-29T02:07:31.343090Z",
     "shell.execute_reply": "2020-11-29T02:07:31.342379Z"
    },
    "papermill": {
     "duration": 0.06286,
     "end_time": "2020-11-29T02:07:31.343208",
     "exception": false,
     "start_time": "2020-11-29T02:07:31.280348",
     "status": "completed"
    },
    "tags": []
   },
   "outputs": [
    {
     "data": {
      "text/plain": [
       "(25572, 100)"
      ]
     },
     "execution_count": 28,
     "metadata": {},
     "output_type": "execute_result"
    }
   ],
   "source": [
    "data.shape"
   ]
  },
  {
   "cell_type": "code",
   "execution_count": 29,
   "metadata": {
    "execution": {
     "iopub.execute_input": "2020-11-29T02:07:31.466608Z",
     "iopub.status.busy": "2020-11-29T02:07:31.459905Z",
     "iopub.status.idle": "2020-11-29T02:07:31.777147Z",
     "shell.execute_reply": "2020-11-29T02:07:31.776033Z"
    },
    "papermill": {
     "duration": 0.380021,
     "end_time": "2020-11-29T02:07:31.777295",
     "exception": false,
     "start_time": "2020-11-29T02:07:31.397274",
     "status": "completed"
    },
    "tags": []
   },
   "outputs": [
    {
     "data": {
      "image/png": "[encoded data removed]",
      "text/plain": [
       "<Figure size 864x432 with 1 Axes>"
      ]
     },
     "metadata": {},
     "output_type": "display_data"
    }
   ],
   "source": [
    "pca = PCA().fit(data)\n",
    "\n",
    "import matplotlib.pyplot as plt\n",
    "plt.rcParams[\"figure.figsize\"] = (12,6)\n",
    "\n",
    "fig, ax = plt.subplots()\n",
    "xi = np.arange(1,101, step=1)\n",
    "y = np.cumsum(pca.explained_variance_ratio_)\n",
    "\n",
    "plt.ylim(0.0,1.1)\n",
    "plt.plot(xi, y, marker='o', linestyle='--', color='b')\n",
    "\n",
    "plt.xlabel('Number of Components')\n",
    "plt.xticks(np.arange(0, 100, step=40))\n",
    "plt.ylabel('Cumulative variance (%)')\n",
    "plt.title('The number of components needed to explain variance')\n",
    "\n",
    "plt.axhline(y=0.95, color='r', linestyle='-')\n",
    "plt.text(0.5, 0.85, '95% cut-off threshold', color = 'red', fontsize=16)\n",
    "\n",
    "ax.grid(axis='x')\n",
    "plt.show()"
   ]
  },
  {
   "cell_type": "code",
   "execution_count": 30,
   "metadata": {
    "execution": {
     "iopub.execute_input": "2020-11-29T02:07:31.903520Z",
     "iopub.status.busy": "2020-11-29T02:07:31.901732Z",
     "iopub.status.idle": "2020-11-29T02:07:31.904294Z",
     "shell.execute_reply": "2020-11-29T02:07:31.904853Z"
    },
    "papermill": {
     "duration": 0.065715,
     "end_time": "2020-11-29T02:07:31.904995",
     "exception": false,
     "start_time": "2020-11-29T02:07:31.839280",
     "status": "completed"
    },
    "tags": []
   },
   "outputs": [],
   "source": [
    "pca_df=pd.DataFrame(xi, columns=['Num_of_comp'])\n",
    "pca_df['var']=y"
   ]
  },
  {
   "cell_type": "code",
   "execution_count": 31,
   "metadata": {
    "execution": {
     "iopub.execute_input": "2020-11-29T02:07:32.049619Z",
     "iopub.status.busy": "2020-11-29T02:07:32.044440Z",
     "iopub.status.idle": "2020-11-29T02:07:32.072658Z",
     "shell.execute_reply": "2020-11-29T02:07:32.071774Z"
    },
    "papermill": {
     "duration": 0.111102,
     "end_time": "2020-11-29T02:07:32.072859",
     "exception": false,
     "start_time": "2020-11-29T02:07:31.961757",
     "status": "completed"
    },
    "tags": []
   },
   "outputs": [
    {
     "data": {
      "text/html": [
       "<div>\n",
       "<style scoped>\n",
       "    .dataframe tbody tr th:only-of-type {\n",
       "        vertical-align: middle;\n",
       "    }\n",
       "\n",
       "    .dataframe tbody tr th {\n",
       "        vertical-align: top;\n",
       "    }\n",
       "\n",
       "    .dataframe thead th {\n",
       "        text-align: right;\n",
       "    }\n",
       "</style>\n",
       "<table border=\"1\" class=\"dataframe\">\n",
       "  <thead>\n",
       "    <tr style=\"text-align: right;\">\n",
       "      <th></th>\n",
       "      <th>Num_of_comp</th>\n",
       "      <th>var</th>\n",
       "    </tr>\n",
       "  </thead>\n",
       "  <tbody>\n",
       "    <tr>\n",
       "      <th>82</th>\n",
       "      <td>83</td>\n",
       "      <td>0.953462</td>\n",
       "    </tr>\n",
       "    <tr>\n",
       "      <th>83</th>\n",
       "      <td>84</td>\n",
       "      <td>0.956954</td>\n",
       "    </tr>\n",
       "    <tr>\n",
       "      <th>84</th>\n",
       "      <td>85</td>\n",
       "      <td>0.960421</td>\n",
       "    </tr>\n",
       "    <tr>\n",
       "      <th>85</th>\n",
       "      <td>86</td>\n",
       "      <td>0.963809</td>\n",
       "    </tr>\n",
       "    <tr>\n",
       "      <th>86</th>\n",
       "      <td>87</td>\n",
       "      <td>0.967106</td>\n",
       "    </tr>\n",
       "  </tbody>\n",
       "</table>\n",
       "</div>"
      ],
      "text/plain": [
       "    Num_of_comp       var\n",
       "82           83  0.953462\n",
       "83           84  0.956954\n",
       "84           85  0.960421\n",
       "85           86  0.963809\n",
       "86           87  0.967106"
      ]
     },
     "execution_count": 31,
     "metadata": {},
     "output_type": "execute_result"
    }
   ],
   "source": [
    "pca_df[pca_df['var']>=0.95].head() "
   ]
  },
  {
   "cell_type": "code",
   "execution_count": 32,
   "metadata": {
    "execution": {
     "iopub.execute_input": "2020-11-29T02:07:32.275529Z",
     "iopub.status.busy": "2020-11-29T02:07:32.274469Z",
     "iopub.status.idle": "2020-11-29T02:07:35.019262Z",
     "shell.execute_reply": "2020-11-29T02:07:35.017527Z"
    },
    "papermill": {
     "duration": 2.851396,
     "end_time": "2020-11-29T02:07:35.019431",
     "exception": false,
     "start_time": "2020-11-29T02:07:32.168035",
     "status": "completed"
    },
    "tags": []
   },
   "outputs": [
    {
     "name": "stdout",
     "output_type": "stream",
     "text": [
      "\u001b[34m PCA\n"
     ]
    }
   ],
   "source": [
    "# PCA\n",
    "ncompo_genes = 90\n",
    "ncompo_cells = 20\n",
    "if decompo == \"PCA\":\n",
    "    print(b_, \"PCA\")\n",
    "    GENES = [col for col in data_all.columns if col.startswith(\"g-\")]\n",
    "    CELLS = [col for col in data_all.columns if col.startswith(\"c-\")]\n",
    "    \n",
    "    pca_genes = PCA(n_components = ncompo_genes,\n",
    "                    random_state = seed).fit_transform(data_all[GENES])\n",
    "    pca_cells = PCA(n_components = ncompo_cells,\n",
    "                    random_state = seed).fit_transform(data_all[CELLS])\n",
    "    \n",
    "    pca_genes = pd.DataFrame(pca_genes, columns = [f\"pca_g-{i}\" for i in range(ncompo_genes)])\n",
    "    pca_cells = pd.DataFrame(pca_cells, columns = [f\"pca_c-{i}\" for i in range(ncompo_cells)])\n",
    "    data_all = pd.concat([data_all, pca_genes, pca_cells], axis = 1)\n",
    "else:\n",
    "    pass"
   ]
  },
  {
   "cell_type": "code",
   "execution_count": 33,
   "metadata": {
    "execution": {
     "iopub.execute_input": "2020-11-29T02:07:35.168056Z",
     "iopub.status.busy": "2020-11-29T02:07:35.166924Z",
     "iopub.status.idle": "2020-11-29T02:07:35.170981Z",
     "shell.execute_reply": "2020-11-29T02:07:35.171513Z"
    },
    "papermill": {
     "duration": 0.084225,
     "end_time": "2020-11-29T02:07:35.171648",
     "exception": false,
     "start_time": "2020-11-29T02:07:35.087423",
     "status": "completed"
    },
    "tags": []
   },
   "outputs": [
    {
     "data": {
      "text/plain": [
       "(25572, 951)"
      ]
     },
     "execution_count": 33,
     "metadata": {},
     "output_type": "execute_result"
    }
   ],
   "source": [
    "data_all.shape"
   ]
  },
  {
   "cell_type": "code",
   "execution_count": 34,
   "metadata": {
    "execution": {
     "iopub.execute_input": "2020-11-29T02:07:35.298944Z",
     "iopub.status.busy": "2020-11-29T02:07:35.297533Z",
     "iopub.status.idle": "2020-11-29T02:07:35.573219Z",
     "shell.execute_reply": "2020-11-29T02:07:35.572562Z"
    },
    "papermill": {
     "duration": 0.343911,
     "end_time": "2020-11-29T02:07:35.573343",
     "exception": false,
     "start_time": "2020-11-29T02:07:35.229432",
     "status": "completed"
    },
    "tags": []
   },
   "outputs": [
    {
     "name": "stdout",
     "output_type": "stream",
     "text": [
      "\u001b[34m One-Hot\n"
     ]
    }
   ],
   "source": [
    "\n",
    "if encoding == \"lb\":\n",
    "    print(b_, \"Label Encoding\")\n",
    "    for feat in [\"cp_time\", \"cp_dose\"]:\n",
    "        data_all[feat] = LabelEncoder().fit_transform(data_all[feat])\n",
    "elif encoding == \"dummy\":\n",
    "    print(b_, \"One-Hot\")\n",
    "    data_all = pd.get_dummies(data_all, columns = [\"cp_time\", \"cp_dose\"])"
   ]
  },
  {
   "cell_type": "code",
   "execution_count": 35,
   "metadata": {
    "execution": {
     "iopub.execute_input": "2020-11-29T02:07:35.696935Z",
     "iopub.status.busy": "2020-11-29T02:07:35.696042Z",
     "iopub.status.idle": "2020-11-29T02:07:35.699535Z",
     "shell.execute_reply": "2020-11-29T02:07:35.700208Z"
    },
    "papermill": {
     "duration": 0.068411,
     "end_time": "2020-11-29T02:07:35.700348",
     "exception": false,
     "start_time": "2020-11-29T02:07:35.631937",
     "status": "completed"
    },
    "tags": []
   },
   "outputs": [
    {
     "data": {
      "text/plain": [
       "(25572, 954)"
      ]
     },
     "execution_count": 35,
     "metadata": {},
     "output_type": "execute_result"
    }
   ],
   "source": [
    "data_all.shape"
   ]
  },
  {
   "cell_type": "code",
   "execution_count": 36,
   "metadata": {
    "execution": {
     "iopub.execute_input": "2020-11-29T02:07:35.834223Z",
     "iopub.status.busy": "2020-11-29T02:07:35.830312Z",
     "iopub.status.idle": "2020-11-29T02:07:40.677683Z",
     "shell.execute_reply": "2020-11-29T02:07:40.676866Z"
    },
    "papermill": {
     "duration": 4.918407,
     "end_time": "2020-11-29T02:07:40.677841",
     "exception": false,
     "start_time": "2020-11-29T02:07:35.759434",
     "status": "completed"
    },
    "tags": []
   },
   "outputs": [
    {
     "name": "stderr",
     "output_type": "stream",
     "text": [
      "100%|██████████| 5/5 [00:04<00:00,  1.03it/s]\n"
     ]
    }
   ],
   "source": [
    "GENES = [col for col in data_all.columns if col.startswith(\"g-\")]\n",
    "CELLS = [col for col in data_all.columns if col.startswith(\"c-\")]\n",
    "\n",
    "for stats in tqdm.tqdm([\"sum\", \"mean\", \"std\", \"kurt\", \"skew\"]):\n",
    "    data_all[\"g_\" + stats] = getattr(data_all[GENES], stats)(axis = 1)\n",
    "    data_all[\"c_\" + stats] = getattr(data_all[CELLS], stats)(axis = 1)    \n",
    "    data_all[\"gc_\" + stats] = getattr(data_all[GENES + CELLS], stats)(axis = 1)"
   ]
  },
  {
   "cell_type": "code",
   "execution_count": 37,
   "metadata": {
    "execution": {
     "iopub.execute_input": "2020-11-29T02:07:40.809862Z",
     "iopub.status.busy": "2020-11-29T02:07:40.808816Z",
     "iopub.status.idle": "2020-11-29T02:07:40.813362Z",
     "shell.execute_reply": "2020-11-29T02:07:40.812818Z"
    },
    "papermill": {
     "duration": 0.072417,
     "end_time": "2020-11-29T02:07:40.813489",
     "exception": false,
     "start_time": "2020-11-29T02:07:40.741072",
     "status": "completed"
    },
    "tags": []
   },
   "outputs": [
    {
     "data": {
      "text/plain": [
       "(25572, 969)"
      ]
     },
     "execution_count": 37,
     "metadata": {},
     "output_type": "execute_result"
    }
   ],
   "source": [
    "data_all.shape"
   ]
  },
  {
   "cell_type": "code",
   "execution_count": 38,
   "metadata": {
    "execution": {
     "iopub.execute_input": "2020-11-29T02:07:40.953056Z",
     "iopub.status.busy": "2020-11-29T02:07:40.951957Z",
     "iopub.status.idle": "2020-11-29T02:07:40.955235Z",
     "shell.execute_reply": "2020-11-29T02:07:40.954581Z"
    },
    "papermill": {
     "duration": 0.078723,
     "end_time": "2020-11-29T02:07:40.955354",
     "exception": false,
     "start_time": "2020-11-29T02:07:40.876631",
     "status": "completed"
    },
    "tags": []
   },
   "outputs": [],
   "source": [
    "def distributions(num, graphs, items, features, gorc):\n",
    "    \"\"\"\n",
    "    Plot the distributions of gene expression or cell viability data\n",
    "    \"\"\"\n",
    "    for i in range(0, num - 1, 7):\n",
    "        if i >= 3:\n",
    "            break\n",
    "        idxs = list(np.array([0, 1, 2, 3, 4, 5, 6]) + i)\n",
    "    \n",
    "        fig, axs = plt.subplots(1, 7, sharey = True)\n",
    "        for k, item in enumerate(idxs):\n",
    "            if item >= items:\n",
    "                break\n",
    "            graph = sns.distplot(data_all[features].values[:, item], ax = axs[k])\n",
    "            graph.set_title(f\"{gorc}-{item}\")\n",
    "            graphs.append(graph)"
   ]
  },
  {
   "cell_type": "code",
   "execution_count": 39,
   "metadata": {
    "execution": {
     "iopub.execute_input": "2020-11-29T02:07:41.092508Z",
     "iopub.status.busy": "2020-11-29T02:07:41.091109Z",
     "iopub.status.idle": "2020-11-29T02:07:43.572825Z",
     "shell.execute_reply": "2020-11-29T02:07:43.573364Z"
    },
    "papermill": {
     "duration": 2.553583,
     "end_time": "2020-11-29T02:07:43.573539",
     "exception": false,
     "start_time": "2020-11-29T02:07:41.019956",
     "status": "completed"
    },
    "tags": []
   },
   "outputs": [
    {
     "data": {
      "image/png": "[encoded data removed]",
      "text/plain": [
       "<Figure size 864x432 with 7 Axes>"
      ]
     },
     "metadata": {},
     "output_type": "display_data"
    }
   ],
   "source": [
    "gnum = data_all[GENES].shape[1]\n",
    "graphs = []\n",
    "\n",
    "distributions(gnum, graphs, 771, GENES, \"g\")"
   ]
  },
  {
   "cell_type": "code",
   "execution_count": 40,
   "metadata": {
    "execution": {
     "iopub.execute_input": "2020-11-29T02:07:43.723438Z",
     "iopub.status.busy": "2020-11-29T02:07:43.722247Z",
     "iopub.status.idle": "2020-11-29T02:07:45.816875Z",
     "shell.execute_reply": "2020-11-29T02:07:45.817467Z"
    },
    "papermill": {
     "duration": 2.179158,
     "end_time": "2020-11-29T02:07:45.817637",
     "exception": false,
     "start_time": "2020-11-29T02:07:43.638479",
     "status": "completed"
    },
    "tags": []
   },
   "outputs": [
    {
     "data": {
      "image/png": "[encoded data removed]",
      "text/plain": [
       "<Figure size 864x432 with 7 Axes>"
      ]
     },
     "metadata": {},
     "output_type": "display_data"
    }
   ],
   "source": [
    "cnum = data_all[CELLS].shape[1]\n",
    "graphs = []\n",
    "\n",
    "distributions(cnum, graphs, 100, CELLS, \"c\")"
   ]
  },
  {
   "cell_type": "code",
   "execution_count": 41,
   "metadata": {
    "execution": {
     "iopub.execute_input": "2020-11-29T02:07:46.067536Z",
     "iopub.status.busy": "2020-11-29T02:07:46.066421Z",
     "iopub.status.idle": "2020-11-29T02:07:46.082313Z",
     "shell.execute_reply": "2020-11-29T02:07:46.081740Z"
    },
    "papermill": {
     "duration": 0.163213,
     "end_time": "2020-11-29T02:07:46.082438",
     "exception": false,
     "start_time": "2020-11-29T02:07:45.919225",
     "status": "completed"
    },
    "tags": []
   },
   "outputs": [],
   "source": [
    "\n",
    "features_to_drop = [\"sig_id\", \"cp_type\"]\n",
    "data_all.drop(features_to_drop, axis = 1, inplace = True)\n",
    "try:\n",
    "    targets.drop(\"sig_id\", axis = 1, inplace = True)\n",
    "except:\n",
    "    pass\n",
    "train_df = data_all[: train.shape[0]]\n",
    "train_df.reset_index(drop = True, inplace = True)\n",
    "test_df = data_all[train_df.shape[0]: ]\n",
    "test_df.reset_index(drop = True, inplace = True)"
   ]
  },
  {
   "cell_type": "code",
   "execution_count": 42,
   "metadata": {
    "execution": {
     "iopub.execute_input": "2020-11-29T02:07:46.224418Z",
     "iopub.status.busy": "2020-11-29T02:07:46.223454Z",
     "iopub.status.idle": "2020-11-29T02:07:46.228941Z",
     "shell.execute_reply": "2020-11-29T02:07:46.229512Z"
    },
    "papermill": {
     "duration": 0.07833,
     "end_time": "2020-11-29T02:07:46.229661",
     "exception": false,
     "start_time": "2020-11-29T02:07:46.151331",
     "status": "completed"
    },
    "tags": []
   },
   "outputs": [
    {
     "name": "stdout",
     "output_type": "stream",
     "text": [
      "\u001b[34mtrain_df.shape: \u001b[31m(21948, 967)\n",
      "\u001b[34mtest_df.shape: \u001b[31m(3624, 967)\n"
     ]
    }
   ],
   "source": [
    "print(f\"{b_}train_df.shape: {r_}{train_df.shape}\")\n",
    "print(f\"{b_}test_df.shape: {r_}{test_df.shape}\")"
   ]
  },
  {
   "cell_type": "code",
   "execution_count": 43,
   "metadata": {
    "execution": {
     "iopub.execute_input": "2020-11-29T02:07:46.373513Z",
     "iopub.status.busy": "2020-11-29T02:07:46.372098Z",
     "iopub.status.idle": "2020-11-29T02:07:46.388286Z",
     "shell.execute_reply": "2020-11-29T02:07:46.387471Z"
    },
    "papermill": {
     "duration": 0.090421,
     "end_time": "2020-11-29T02:07:46.388483",
     "exception": false,
     "start_time": "2020-11-29T02:07:46.298062",
     "status": "completed"
    },
    "tags": []
   },
   "outputs": [
    {
     "name": "stdout",
     "output_type": "stream",
     "text": [
      "\u001b[34mX_test.shape: \u001b[31m(3624, 967)\n"
     ]
    }
   ],
   "source": [
    "X_test = test_df.values\n",
    "print(f\"{b_}X_test.shape: {r_}{X_test.shape}\")"
   ]
  },
  {
   "cell_type": "code",
   "execution_count": 44,
   "metadata": {
    "execution": {
     "iopub.execute_input": "2020-11-29T02:07:46.536544Z",
     "iopub.status.busy": "2020-11-29T02:07:46.535484Z",
     "iopub.status.idle": "2020-11-29T02:07:46.538189Z",
     "shell.execute_reply": "2020-11-29T02:07:46.538924Z"
    },
    "papermill": {
     "duration": 0.081466,
     "end_time": "2020-11-29T02:07:46.539067",
     "exception": false,
     "start_time": "2020-11-29T02:07:46.457601",
     "status": "completed"
    },
    "tags": []
   },
   "outputs": [],
   "source": [
    "MAX_EPOCH = 200\n",
    "tabnet_params = dict(\n",
    "    n_d = 32, \n",
    "    n_a = 32, \n",
    "    n_steps = 1, \n",
    "    gamma = 1.5, \n",
    "    lambda_sparse = 0,\n",
    "    optimizer_fn = optim.Adam, \n",
    "    optimizer_params = dict(lr = 2e-2, weight_decay = 1e-5),\n",
    "    mask_type = \"entmax\",\n",
    "    scheduler_params = dict(\n",
    "        mode = \"min\", patience = 5, min_lr = 1e-5, factor = 0.9),  \n",
    "    scheduler_fn = ReduceLROnPlateau, \n",
    "    seed = seed,\n",
    "    verbose = 10\n",
    ")"
   ]
  },
  {
   "cell_type": "code",
   "execution_count": 45,
   "metadata": {
    "execution": {
     "iopub.execute_input": "2020-11-29T02:07:46.687533Z",
     "iopub.status.busy": "2020-11-29T02:07:46.686463Z",
     "iopub.status.idle": "2020-11-29T02:07:46.689188Z",
     "shell.execute_reply": "2020-11-29T02:07:46.689983Z"
    },
    "papermill": {
     "duration": 0.081821,
     "end_time": "2020-11-29T02:07:46.690127",
     "exception": false,
     "start_time": "2020-11-29T02:07:46.608306",
     "status": "completed"
    },
    "tags": []
   },
   "outputs": [],
   "source": [
    "class LogitsLogLoss(Metric):\n",
    "    def __init__(self):\n",
    "        self._name = \"logits_ll\"\n",
    "        self._maximize = False\n",
    "\n",
    "    def __call__(self, y_true, y_pred):\n",
    "        logits = 1 / (1 + np.exp(-y_pred))\n",
    "        aux = (1 - y_true) * np.log(1 - logits + 1e-15) + y_true * np.log(logits + 1e-15)\n",
    "        return np.mean(-aux)"
   ]
  },
  {
   "cell_type": "code",
   "execution_count": 46,
   "metadata": {
    "execution": {
     "iopub.execute_input": "2020-11-29T02:07:46.854480Z",
     "iopub.status.busy": "2020-11-29T02:07:46.843470Z",
     "iopub.status.idle": "2020-11-29T02:49:11.694739Z",
     "shell.execute_reply": "2020-11-29T02:49:11.696226Z"
    },
    "papermill": {
     "duration": 2484.935916,
     "end_time": "2020-11-29T02:49:11.696477",
     "exception": false,
     "start_time": "2020-11-29T02:07:46.760561",
     "status": "completed"
    },
    "tags": []
   },
   "outputs": [
    {
     "name": "stdout",
     "output_type": "stream",
     "text": [
      "\u001b[34m FOLDS:  \u001b[31m 1\n",
      "\u001b[32m ************************************************************ \u001b[36m\n",
      "Device used : cuda\n",
      "epoch 0  | loss: 0.31854 | val_logits_ll: 0.03    |  0:00:02s\n",
      "epoch 10 | loss: 0.01892 | val_logits_ll: 0.01863 |  0:00:25s\n",
      "epoch 20 | loss: 0.01734 | val_logits_ll: 0.0195  |  0:00:46s\n",
      "epoch 30 | loss: 0.01696 | val_logits_ll: 0.01742 |  0:01:07s\n",
      "epoch 40 | loss: 0.01669 | val_logits_ll: 0.017   |  0:01:29s\n",
      "epoch 50 | loss: 0.01653 | val_logits_ll: 0.0168  |  0:01:50s\n",
      "epoch 60 | loss: 0.01627 | val_logits_ll: 0.01673 |  0:02:11s\n",
      "epoch 70 | loss: 0.01603 | val_logits_ll: 0.01659 |  0:02:33s\n",
      "epoch 80 | loss: 0.0158  | val_logits_ll: 0.01694 |  0:02:54s\n",
      "epoch 90 | loss: 0.01567 | val_logits_ll: 0.01657 |  0:03:15s\n",
      "epoch 100| loss: 0.01541 | val_logits_ll: 0.01671 |  0:03:38s\n",
      "epoch 110| loss: 0.01533 | val_logits_ll: 0.01649 |  0:03:59s\n",
      "epoch 120| loss: 0.01519 | val_logits_ll: 0.01692 |  0:04:22s\n",
      "\n",
      "Early stopping occured at epoch 128 with best_epoch = 108 and best_val_logits_ll = 0.01648\n",
      "Best weights from best epoch are automatically used!\n",
      "\u001b[33m ------------------------------------------------------------\n",
      "\u001b[34m FOLDS:  \u001b[31m 2\n",
      "\u001b[32m ************************************************************ \u001b[36m\n",
      "Device used : cuda\n",
      "epoch 0  | loss: 0.3163  | val_logits_ll: 0.02908 |  0:00:02s\n",
      "epoch 10 | loss: 0.01898 | val_logits_ll: 0.01873 |  0:00:23s\n",
      "epoch 20 | loss: 0.01746 | val_logits_ll: 0.01843 |  0:00:45s\n",
      "epoch 30 | loss: 0.01695 | val_logits_ll: 0.01719 |  0:01:07s\n",
      "epoch 40 | loss: 0.01663 | val_logits_ll: 0.01698 |  0:01:28s\n",
      "epoch 50 | loss: 0.01641 | val_logits_ll: 0.01739 |  0:01:51s\n",
      "epoch 60 | loss: 0.01642 | val_logits_ll: 0.01691 |  0:02:13s\n",
      "epoch 70 | loss: 0.01592 | val_logits_ll: 0.01677 |  0:02:34s\n",
      "epoch 80 | loss: 0.0158  | val_logits_ll: 0.01673 |  0:02:56s\n",
      "epoch 90 | loss: 0.01553 | val_logits_ll: 0.01653 |  0:03:18s\n",
      "epoch 100| loss: 0.01515 | val_logits_ll: 0.01667 |  0:03:40s\n",
      "\n",
      "Early stopping occured at epoch 103 with best_epoch = 83 and best_val_logits_ll = 0.01647\n",
      "Best weights from best epoch are automatically used!\n",
      "\u001b[33m ------------------------------------------------------------\n",
      "\u001b[34m FOLDS:  \u001b[31m 3\n",
      "\u001b[32m ************************************************************ \u001b[36m\n",
      "Device used : cuda\n",
      "epoch 0  | loss: 0.31608 | val_logits_ll: 0.03005 |  0:00:02s\n",
      "epoch 10 | loss: 0.01879 | val_logits_ll: 0.01972 |  0:00:23s\n",
      "epoch 20 | loss: 0.01731 | val_logits_ll: 0.02016 |  0:00:45s\n",
      "epoch 30 | loss: 0.01688 | val_logits_ll: 0.01751 |  0:01:08s\n",
      "epoch 40 | loss: 0.01658 | val_logits_ll: 0.01702 |  0:01:29s\n",
      "epoch 50 | loss: 0.01628 | val_logits_ll: 0.017   |  0:01:52s\n",
      "epoch 60 | loss: 0.01599 | val_logits_ll: 0.01672 |  0:02:14s\n",
      "epoch 70 | loss: 0.0156  | val_logits_ll: 0.01716 |  0:02:35s\n",
      "\n",
      "Early stopping occured at epoch 75 with best_epoch = 55 and best_val_logits_ll = 0.0167\n",
      "Best weights from best epoch are automatically used!\n",
      "\u001b[33m ------------------------------------------------------------\n",
      "\u001b[34m FOLDS:  \u001b[31m 4\n",
      "\u001b[32m ************************************************************ \u001b[36m\n",
      "Device used : cuda\n",
      "epoch 0  | loss: 0.3149  | val_logits_ll: 0.02888 |  0:00:02s\n",
      "epoch 10 | loss: 0.01893 | val_logits_ll: 0.01843 |  0:00:23s\n",
      "epoch 20 | loss: 0.0175  | val_logits_ll: 0.01788 |  0:00:45s\n",
      "epoch 30 | loss: 0.01707 | val_logits_ll: 0.01719 |  0:01:08s\n",
      "epoch 40 | loss: 0.01671 | val_logits_ll: 0.01744 |  0:01:30s\n",
      "epoch 50 | loss: 0.01648 | val_logits_ll: 0.01676 |  0:01:51s\n",
      "epoch 60 | loss: 0.01643 | val_logits_ll: 0.01709 |  0:02:14s\n",
      "epoch 70 | loss: 0.01632 | val_logits_ll: 0.01685 |  0:02:35s\n",
      "epoch 80 | loss: 0.01605 | val_logits_ll: 0.01668 |  0:02:57s\n",
      "epoch 90 | loss: 0.01594 | val_logits_ll: 0.01658 |  0:03:19s\n",
      "epoch 100| loss: 0.01559 | val_logits_ll: 0.01638 |  0:03:41s\n",
      "epoch 110| loss: 0.01543 | val_logits_ll: 0.01641 |  0:04:04s\n",
      "epoch 120| loss: 0.01507 | val_logits_ll: 0.01651 |  0:04:25s\n",
      "\n",
      "Early stopping occured at epoch 120 with best_epoch = 100 and best_val_logits_ll = 0.01638\n",
      "Best weights from best epoch are automatically used!\n",
      "\u001b[33m ------------------------------------------------------------\n",
      "\u001b[34m FOLDS:  \u001b[31m 5\n",
      "\u001b[32m ************************************************************ \u001b[36m\n",
      "Device used : cuda\n",
      "epoch 0  | loss: 0.31553 | val_logits_ll: 0.02952 |  0:00:02s\n",
      "epoch 10 | loss: 0.01906 | val_logits_ll: 0.01908 |  0:00:24s\n",
      "epoch 20 | loss: 0.01748 | val_logits_ll: 0.01961 |  0:00:46s\n",
      "epoch 30 | loss: 0.01704 | val_logits_ll: 0.0176  |  0:01:08s\n",
      "epoch 40 | loss: 0.01673 | val_logits_ll: 0.01743 |  0:01:30s\n",
      "epoch 50 | loss: 0.01656 | val_logits_ll: 0.01714 |  0:01:52s\n",
      "epoch 60 | loss: 0.01622 | val_logits_ll: 0.01688 |  0:02:14s\n",
      "epoch 70 | loss: 0.01617 | val_logits_ll: 0.01697 |  0:02:37s\n",
      "epoch 80 | loss: 0.01584 | val_logits_ll: 0.01675 |  0:02:58s\n",
      "epoch 90 | loss: 0.01568 | val_logits_ll: 0.01682 |  0:03:20s\n",
      "epoch 100| loss: 0.01533 | val_logits_ll: 0.01666 |  0:03:43s\n",
      "epoch 110| loss: 0.01522 | val_logits_ll: 0.01665 |  0:04:05s\n",
      "epoch 120| loss: 0.01483 | val_logits_ll: 0.01689 |  0:04:27s\n",
      "\n",
      "Early stopping occured at epoch 125 with best_epoch = 105 and best_val_logits_ll = 0.01657\n",
      "Best weights from best epoch are automatically used!\n",
      "\u001b[33m ------------------------------------------------------------\n",
      "\u001b[34m FOLDS:  \u001b[31m 6\n",
      "\u001b[32m ************************************************************ \u001b[36m\n",
      "Device used : cuda\n",
      "epoch 0  | loss: 0.31451 | val_logits_ll: 0.02867 |  0:00:02s\n",
      "epoch 10 | loss: 0.01876 | val_logits_ll: 0.01835 |  0:00:26s\n",
      "epoch 20 | loss: 0.01746 | val_logits_ll: 0.01841 |  0:00:51s\n",
      "epoch 30 | loss: 0.017   | val_logits_ll: 0.01737 |  0:01:15s\n",
      "epoch 40 | loss: 0.01668 | val_logits_ll: 0.01681 |  0:01:39s\n",
      "epoch 50 | loss: 0.01645 | val_logits_ll: 0.01677 |  0:02:05s\n",
      "epoch 60 | loss: 0.01626 | val_logits_ll: 0.0165  |  0:02:29s\n",
      "epoch 70 | loss: 0.01626 | val_logits_ll: 0.01647 |  0:02:55s\n",
      "epoch 80 | loss: 0.01582 | val_logits_ll: 0.01635 |  0:03:19s\n",
      "epoch 90 | loss: 0.01562 | val_logits_ll: 0.01635 |  0:03:43s\n",
      "\n",
      "Early stopping occured at epoch 98 with best_epoch = 78 and best_val_logits_ll = 0.01623\n",
      "Best weights from best epoch are automatically used!\n",
      "\u001b[33m ------------------------------------------------------------\n",
      "\u001b[34m FOLDS:  \u001b[31m 7\n",
      "\u001b[32m ************************************************************ \u001b[36m\n",
      "Device used : cuda\n",
      "epoch 0  | loss: 0.31566 | val_logits_ll: 0.02901 |  0:00:02s\n",
      "epoch 10 | loss: 0.01893 | val_logits_ll: 0.01878 |  0:00:26s\n",
      "epoch 20 | loss: 0.01762 | val_logits_ll: 0.01827 |  0:00:51s\n",
      "epoch 30 | loss: 0.01705 | val_logits_ll: 0.0188  |  0:01:16s\n",
      "epoch 40 | loss: 0.0167  | val_logits_ll: 0.01687 |  0:01:40s\n",
      "epoch 50 | loss: 0.01656 | val_logits_ll: 0.01652 |  0:02:06s\n",
      "epoch 60 | loss: 0.01625 | val_logits_ll: 0.01657 |  0:02:29s\n",
      "epoch 70 | loss: 0.01611 | val_logits_ll: 0.01652 |  0:02:55s\n",
      "epoch 80 | loss: 0.01588 | val_logits_ll: 0.01694 |  0:03:19s\n",
      "epoch 90 | loss: 0.01561 | val_logits_ll: 0.01661 |  0:03:44s\n",
      "epoch 100| loss: 0.01533 | val_logits_ll: 0.01637 |  0:04:08s\n",
      "epoch 110| loss: 0.01515 | val_logits_ll: 0.01654 |  0:04:33s\n",
      "\n",
      "Early stopping occured at epoch 111 with best_epoch = 91 and best_val_logits_ll = 0.01632\n",
      "Best weights from best epoch are automatically used!\n",
      "\u001b[33m ------------------------------------------------------------\n",
      "\u001b[34m FOLDS:  \u001b[31m 8\n",
      "\u001b[32m ************************************************************ \u001b[36m\n",
      "Device used : cuda\n",
      "epoch 0  | loss: 0.31496 | val_logits_ll: 0.02918 |  0:00:02s\n",
      "epoch 10 | loss: 0.01893 | val_logits_ll: 0.01878 |  0:00:23s\n",
      "epoch 20 | loss: 0.01745 | val_logits_ll: 0.0176  |  0:00:43s\n",
      "epoch 30 | loss: 0.01708 | val_logits_ll: 0.01763 |  0:01:03s\n",
      "epoch 40 | loss: 0.0167  | val_logits_ll: 0.01704 |  0:01:24s\n",
      "epoch 50 | loss: 0.0164  | val_logits_ll: 0.01705 |  0:01:44s\n",
      "epoch 60 | loss: 0.01628 | val_logits_ll: 0.01683 |  0:02:05s\n",
      "epoch 70 | loss: 0.01608 | val_logits_ll: 0.01679 |  0:02:26s\n",
      "epoch 80 | loss: 0.01596 | val_logits_ll: 0.01672 |  0:02:46s\n",
      "epoch 90 | loss: 0.01557 | val_logits_ll: 0.01668 |  0:03:08s\n",
      "epoch 100| loss: 0.0155  | val_logits_ll: 0.01659 |  0:03:28s\n",
      "epoch 110| loss: 0.01527 | val_logits_ll: 0.01696 |  0:03:48s\n",
      "epoch 120| loss: 0.01505 | val_logits_ll: 0.01676 |  0:04:09s\n",
      "\n",
      "Early stopping occured at epoch 123 with best_epoch = 103 and best_val_logits_ll = 0.01645\n",
      "Best weights from best epoch are automatically used!\n",
      "\u001b[33m ------------------------------------------------------------\n",
      "\u001b[34m FOLDS:  \u001b[31m 9\n",
      "\u001b[32m ************************************************************ \u001b[36m\n",
      "Device used : cuda\n",
      "epoch 0  | loss: 0.31609 | val_logits_ll: 0.02855 |  0:00:01s\n",
      "epoch 10 | loss: 0.01897 | val_logits_ll: 0.01869 |  0:00:22s\n",
      "epoch 20 | loss: 0.01757 | val_logits_ll: 0.01846 |  0:00:41s\n",
      "epoch 30 | loss: 0.01704 | val_logits_ll: 0.01735 |  0:01:03s\n",
      "epoch 40 | loss: 0.01652 | val_logits_ll: 0.01689 |  0:01:24s\n",
      "epoch 50 | loss: 0.01622 | val_logits_ll: 0.01664 |  0:01:44s\n",
      "epoch 60 | loss: 0.01584 | val_logits_ll: 0.01678 |  0:02:05s\n",
      "epoch 70 | loss: 0.01567 | val_logits_ll: 0.01688 |  0:02:25s\n",
      "\n",
      "Early stopping occured at epoch 70 with best_epoch = 50 and best_val_logits_ll = 0.01664\n",
      "Best weights from best epoch are automatically used!\n",
      "\u001b[33m ------------------------------------------------------------\n",
      "\u001b[34m FOLDS:  \u001b[31m 10\n",
      "\u001b[32m ************************************************************ \u001b[36m\n",
      "Device used : cuda\n",
      "epoch 0  | loss: 0.31649 | val_logits_ll: 0.02861 |  0:00:02s\n",
      "epoch 10 | loss: 0.01902 | val_logits_ll: 0.01883 |  0:00:22s\n",
      "epoch 20 | loss: 0.01744 | val_logits_ll: 0.01755 |  0:00:43s\n",
      "epoch 30 | loss: 0.01705 | val_logits_ll: 0.01792 |  0:01:03s\n",
      "epoch 40 | loss: 0.01693 | val_logits_ll: 0.01714 |  0:01:24s\n",
      "epoch 50 | loss: 0.0166  | val_logits_ll: 0.01689 |  0:01:45s\n",
      "epoch 60 | loss: 0.01674 | val_logits_ll: 0.01715 |  0:02:05s\n",
      "epoch 70 | loss: 0.01633 | val_logits_ll: 0.01691 |  0:02:26s\n",
      "epoch 80 | loss: 0.01629 | val_logits_ll: 0.0168  |  0:02:47s\n",
      "epoch 90 | loss: 0.01617 | val_logits_ll: 0.01671 |  0:03:06s\n",
      "epoch 100| loss: 0.01582 | val_logits_ll: 0.01663 |  0:03:28s\n",
      "epoch 110| loss: 0.01587 | val_logits_ll: 0.01674 |  0:03:48s\n",
      "epoch 120| loss: 0.01573 | val_logits_ll: 0.01677 |  0:04:09s\n",
      "epoch 130| loss: 0.0155  | val_logits_ll: 0.01654 |  0:04:30s\n",
      "epoch 140| loss: 0.01548 | val_logits_ll: 0.01681 |  0:04:50s\n",
      "epoch 150| loss: 0.01515 | val_logits_ll: 0.01665 |  0:05:10s\n",
      "\n",
      "Early stopping occured at epoch 154 with best_epoch = 134 and best_val_logits_ll = 0.0165\n",
      "Best weights from best epoch are automatically used!\n",
      "\u001b[33m ------------------------------------------------------------\n"
     ]
    }
   ],
   "source": [
    "scores_auc_all = []\n",
    "test_cv_preds = []\n",
    "\n",
    "NB_SPLITS = 10 # 7\n",
    "mskf = MultilabelStratifiedKFold(n_splits = NB_SPLITS, random_state = 0, shuffle = True)\n",
    "\n",
    "oof_preds = []\n",
    "oof_targets = []\n",
    "scores = []\n",
    "scores_auc = []\n",
    "for fold_nb, (train_idx, val_idx) in enumerate(mskf.split(train_df, targets)):\n",
    "    print(b_,\"FOLDS: \", r_, fold_nb + 1)\n",
    "    print(g_, '*' * 60, c_)\n",
    "    \n",
    "    X_train, y_train = train_df.values[train_idx, :], targets.values[train_idx, :]\n",
    "    X_val, y_val = train_df.values[val_idx, :], targets.values[val_idx, :]\n",
    "\n",
    "    model = TabNetRegressor(**tabnet_params)\n",
    "\n",
    "    model.fit(\n",
    "        X_train = X_train,\n",
    "        y_train = y_train,\n",
    "        eval_set = [(X_val, y_val)],\n",
    "        eval_name = [\"val\"],\n",
    "        eval_metric = [\"logits_ll\"],\n",
    "        max_epochs = MAX_EPOCH,\n",
    "        patience = 20,\n",
    "        batch_size = 1024,\n",
    "        virtual_batch_size = 32,\n",
    "        num_workers = 1,\n",
    "        drop_last = False,\n",
    "\n",
    "        loss_fn = F.binary_cross_entropy_with_logits\n",
    "    )\n",
    "    print(y_, '-' * 60)\n",
    " \n",
    "    preds_val = model.predict(X_val)\n",
    "\n",
    "    preds = 1 / (1 + np.exp(-preds_val))\n",
    "    score = np.min(model.history[\"val_logits_ll\"])\n",
    "    \n",
    "    oof_preds.append(preds_val)\n",
    "    oof_targets.append(y_val)\n",
    "    scores.append(score)\n",
    "\n",
    "    preds_test = model.predict(X_test)\n",
    "    test_cv_preds.append(1 / (1 + np.exp(-preds_test)))\n",
    "\n",
    "oof_preds_all = np.concatenate(oof_preds)\n",
    "oof_targets_all = np.concatenate(oof_targets)\n",
    "test_preds_all = np.stack(test_cv_preds)"
   ]
  },
  {
   "cell_type": "code",
   "execution_count": 47,
   "metadata": {
    "execution": {
     "iopub.execute_input": "2020-11-29T02:49:12.140712Z",
     "iopub.status.busy": "2020-11-29T02:49:12.139626Z",
     "iopub.status.idle": "2020-11-29T02:49:13.627788Z",
     "shell.execute_reply": "2020-11-29T02:49:13.626901Z"
    },
    "papermill": {
     "duration": 1.717869,
     "end_time": "2020-11-29T02:49:13.627954",
     "exception": false,
     "start_time": "2020-11-29T02:49:11.910085",
     "status": "completed"
    },
    "tags": []
   },
   "outputs": [
    {
     "name": "stdout",
     "output_type": "stream",
     "text": [
      "\u001b[34mOverall AUC: \u001b[31m0.7540415208470693\n",
      "\u001b[34mAverage CV: \u001b[31m0.016474699774517147\n"
     ]
    }
   ],
   "source": [
    "aucs = []\n",
    "for task_id in range(oof_preds_all.shape[1]):\n",
    "    aucs.append(roc_auc_score(y_true = oof_targets_all[:, task_id],\n",
    "                              y_score = oof_preds_all[:, task_id]\n",
    "                             ))\n",
    "print(f\"{b_}Overall AUC: {r_}{np.mean(aucs)}\")\n",
    "print(f\"{b_}Average CV: {r_}{np.mean(scores)}\")"
   ]
  },
  {
   "cell_type": "code",
   "execution_count": 48,
   "metadata": {
    "execution": {
     "iopub.execute_input": "2020-11-29T02:49:13.904355Z",
     "iopub.status.busy": "2020-11-29T02:49:13.903327Z",
     "iopub.status.idle": "2020-11-29T02:49:16.860572Z",
     "shell.execute_reply": "2020-11-29T02:49:16.859042Z"
    },
    "papermill": {
     "duration": 3.101237,
     "end_time": "2020-11-29T02:49:16.860734",
     "exception": false,
     "start_time": "2020-11-29T02:49:13.759497",
     "status": "completed"
    },
    "tags": []
   },
   "outputs": [
    {
     "data": {
      "text/html": [
       "<div>\n",
       "<style scoped>\n",
       "    .dataframe tbody tr th:only-of-type {\n",
       "        vertical-align: middle;\n",
       "    }\n",
       "\n",
       "    .dataframe tbody tr th {\n",
       "        vertical-align: top;\n",
       "    }\n",
       "\n",
       "    .dataframe thead th {\n",
       "        text-align: right;\n",
       "    }\n",
       "</style>\n",
       "<table border=\"1\" class=\"dataframe\">\n",
       "  <thead>\n",
       "    <tr style=\"text-align: right;\">\n",
       "      <th></th>\n",
       "      <th>sig_id</th>\n",
       "      <th>5-alpha_reductase_inhibitor</th>\n",
       "      <th>11-beta-hsd1_inhibitor</th>\n",
       "      <th>acat_inhibitor</th>\n",
       "      <th>acetylcholine_receptor_agonist</th>\n",
       "      <th>acetylcholine_receptor_antagonist</th>\n",
       "      <th>acetylcholinesterase_inhibitor</th>\n",
       "      <th>adenosine_receptor_agonist</th>\n",
       "      <th>adenosine_receptor_antagonist</th>\n",
       "      <th>adenylyl_cyclase_activator</th>\n",
       "      <th>...</th>\n",
       "      <th>tropomyosin_receptor_kinase_inhibitor</th>\n",
       "      <th>trpv_agonist</th>\n",
       "      <th>trpv_antagonist</th>\n",
       "      <th>tubulin_inhibitor</th>\n",
       "      <th>tyrosine_kinase_inhibitor</th>\n",
       "      <th>ubiquitin_specific_protease_inhibitor</th>\n",
       "      <th>vegfr_inhibitor</th>\n",
       "      <th>vitamin_b</th>\n",
       "      <th>vitamin_d_receptor_agonist</th>\n",
       "      <th>wnt_inhibitor</th>\n",
       "    </tr>\n",
       "  </thead>\n",
       "  <tbody>\n",
       "    <tr>\n",
       "      <th>0</th>\n",
       "      <td>id_0004d9e33</td>\n",
       "      <td>0.001107</td>\n",
       "      <td>0.001247</td>\n",
       "      <td>0.002031</td>\n",
       "      <td>0.014206</td>\n",
       "      <td>0.020951</td>\n",
       "      <td>0.004910</td>\n",
       "      <td>0.002159</td>\n",
       "      <td>0.006485</td>\n",
       "      <td>0.000261</td>\n",
       "      <td>...</td>\n",
       "      <td>0.000796</td>\n",
       "      <td>0.001256</td>\n",
       "      <td>0.003873</td>\n",
       "      <td>0.001201</td>\n",
       "      <td>0.000722</td>\n",
       "      <td>0.000634</td>\n",
       "      <td>0.000658</td>\n",
       "      <td>0.001775</td>\n",
       "      <td>0.003156</td>\n",
       "      <td>0.001631</td>\n",
       "    </tr>\n",
       "    <tr>\n",
       "      <th>1</th>\n",
       "      <td>id_001897cda</td>\n",
       "      <td>0.000638</td>\n",
       "      <td>0.001141</td>\n",
       "      <td>0.001673</td>\n",
       "      <td>0.002610</td>\n",
       "      <td>0.002116</td>\n",
       "      <td>0.002699</td>\n",
       "      <td>0.002175</td>\n",
       "      <td>0.011165</td>\n",
       "      <td>0.001681</td>\n",
       "      <td>...</td>\n",
       "      <td>0.000694</td>\n",
       "      <td>0.000971</td>\n",
       "      <td>0.002884</td>\n",
       "      <td>0.000288</td>\n",
       "      <td>0.004568</td>\n",
       "      <td>0.000647</td>\n",
       "      <td>0.005366</td>\n",
       "      <td>0.001207</td>\n",
       "      <td>0.012786</td>\n",
       "      <td>0.002549</td>\n",
       "    </tr>\n",
       "    <tr>\n",
       "      <th>2</th>\n",
       "      <td>id_002429b5b</td>\n",
       "      <td>0.000000</td>\n",
       "      <td>0.000000</td>\n",
       "      <td>0.000000</td>\n",
       "      <td>0.000000</td>\n",
       "      <td>0.000000</td>\n",
       "      <td>0.000000</td>\n",
       "      <td>0.000000</td>\n",
       "      <td>0.000000</td>\n",
       "      <td>0.000000</td>\n",
       "      <td>...</td>\n",
       "      <td>0.000000</td>\n",
       "      <td>0.000000</td>\n",
       "      <td>0.000000</td>\n",
       "      <td>0.000000</td>\n",
       "      <td>0.000000</td>\n",
       "      <td>0.000000</td>\n",
       "      <td>0.000000</td>\n",
       "      <td>0.000000</td>\n",
       "      <td>0.000000</td>\n",
       "      <td>0.000000</td>\n",
       "    </tr>\n",
       "    <tr>\n",
       "      <th>3</th>\n",
       "      <td>id_00276f245</td>\n",
       "      <td>0.001080</td>\n",
       "      <td>0.000999</td>\n",
       "      <td>0.001865</td>\n",
       "      <td>0.010206</td>\n",
       "      <td>0.020218</td>\n",
       "      <td>0.003979</td>\n",
       "      <td>0.003158</td>\n",
       "      <td>0.004689</td>\n",
       "      <td>0.000264</td>\n",
       "      <td>...</td>\n",
       "      <td>0.000624</td>\n",
       "      <td>0.001706</td>\n",
       "      <td>0.002632</td>\n",
       "      <td>0.012790</td>\n",
       "      <td>0.003810</td>\n",
       "      <td>0.000606</td>\n",
       "      <td>0.001172</td>\n",
       "      <td>0.001963</td>\n",
       "      <td>0.000339</td>\n",
       "      <td>0.001788</td>\n",
       "    </tr>\n",
       "    <tr>\n",
       "      <th>4</th>\n",
       "      <td>id_0027f1083</td>\n",
       "      <td>0.001500</td>\n",
       "      <td>0.001412</td>\n",
       "      <td>0.001547</td>\n",
       "      <td>0.012637</td>\n",
       "      <td>0.021167</td>\n",
       "      <td>0.005112</td>\n",
       "      <td>0.003371</td>\n",
       "      <td>0.003894</td>\n",
       "      <td>0.000552</td>\n",
       "      <td>...</td>\n",
       "      <td>0.000664</td>\n",
       "      <td>0.000686</td>\n",
       "      <td>0.003274</td>\n",
       "      <td>0.000874</td>\n",
       "      <td>0.001120</td>\n",
       "      <td>0.000693</td>\n",
       "      <td>0.000645</td>\n",
       "      <td>0.001851</td>\n",
       "      <td>0.000609</td>\n",
       "      <td>0.001986</td>\n",
       "    </tr>\n",
       "  </tbody>\n",
       "</table>\n",
       "<p>5 rows × 207 columns</p>\n",
       "</div>"
      ],
      "text/plain": [
       "         sig_id  5-alpha_reductase_inhibitor  11-beta-hsd1_inhibitor  \\\n",
       "0  id_0004d9e33                     0.001107                0.001247   \n",
       "1  id_001897cda                     0.000638                0.001141   \n",
       "2  id_002429b5b                     0.000000                0.000000   \n",
       "3  id_00276f245                     0.001080                0.000999   \n",
       "4  id_0027f1083                     0.001500                0.001412   \n",
       "\n",
       "   acat_inhibitor  acetylcholine_receptor_agonist  \\\n",
       "0        0.002031                        0.014206   \n",
       "1        0.001673                        0.002610   \n",
       "2        0.000000                        0.000000   \n",
       "3        0.001865                        0.010206   \n",
       "4        0.001547                        0.012637   \n",
       "\n",
       "   acetylcholine_receptor_antagonist  acetylcholinesterase_inhibitor  \\\n",
       "0                           0.020951                        0.004910   \n",
       "1                           0.002116                        0.002699   \n",
       "2                           0.000000                        0.000000   \n",
       "3                           0.020218                        0.003979   \n",
       "4                           0.021167                        0.005112   \n",
       "\n",
       "   adenosine_receptor_agonist  adenosine_receptor_antagonist  \\\n",
       "0                    0.002159                       0.006485   \n",
       "1                    0.002175                       0.011165   \n",
       "2                    0.000000                       0.000000   \n",
       "3                    0.003158                       0.004689   \n",
       "4                    0.003371                       0.003894   \n",
       "\n",
       "   adenylyl_cyclase_activator  ...  tropomyosin_receptor_kinase_inhibitor  \\\n",
       "0                    0.000261  ...                               0.000796   \n",
       "1                    0.001681  ...                               0.000694   \n",
       "2                    0.000000  ...                               0.000000   \n",
       "3                    0.000264  ...                               0.000624   \n",
       "4                    0.000552  ...                               0.000664   \n",
       "\n",
       "   trpv_agonist  trpv_antagonist  tubulin_inhibitor  \\\n",
       "0      0.001256         0.003873           0.001201   \n",
       "1      0.000971         0.002884           0.000288   \n",
       "2      0.000000         0.000000           0.000000   \n",
       "3      0.001706         0.002632           0.012790   \n",
       "4      0.000686         0.003274           0.000874   \n",
       "\n",
       "   tyrosine_kinase_inhibitor  ubiquitin_specific_protease_inhibitor  \\\n",
       "0                   0.000722                               0.000634   \n",
       "1                   0.004568                               0.000647   \n",
       "2                   0.000000                               0.000000   \n",
       "3                   0.003810                               0.000606   \n",
       "4                   0.001120                               0.000693   \n",
       "\n",
       "   vegfr_inhibitor  vitamin_b  vitamin_d_receptor_agonist  wnt_inhibitor  \n",
       "0         0.000658   0.001775                    0.003156       0.001631  \n",
       "1         0.005366   0.001207                    0.012786       0.002549  \n",
       "2         0.000000   0.000000                    0.000000       0.000000  \n",
       "3         0.001172   0.001963                    0.000339       0.001788  \n",
       "4         0.000645   0.001851                    0.000609       0.001986  \n",
       "\n",
       "[5 rows x 207 columns]"
      ]
     },
     "execution_count": 48,
     "metadata": {},
     "output_type": "execute_result"
    }
   ],
   "source": [
    "all_feat = [col for col in submission.columns if col not in [\"sig_id\"]]\n",
    "test = pd.read_csv('../input/lish-moa/test_features.csv')\n",
    "sig_id = test[test[\"cp_type\"] != \"ctl_vehicle\"].sig_id.reset_index(drop = True)\n",
    "tmp = pd.DataFrame(test_preds_all.mean(axis = 0), columns = all_feat)\n",
    "tmp[\"sig_id\"] = sig_id\n",
    "\n",
    "submission = pd.merge(test[[\"sig_id\"]], tmp, on = \"sig_id\", how = \"left\")\n",
    "submission.fillna(0, inplace = True)\n",
    "submission.to_csv(\"Team_GOAT_submission.csv\", index = None)\n",
    "submission.head()"
   ]
  }
 ],
 "metadata": {
  "kernelspec": {
   "display_name": "Python 3",
   "language": "python",
   "name": "python3"
  },
  "language_info": {
   "codemirror_mode": {
    "name": "ipython",
    "version": 3
   },
   "file_extension": ".py",
   "mimetype": "text/x-python",
   "name": "python",
   "nbconvert_exporter": "python",
   "pygments_lexer": "ipython3",
   "version": "3.7.6"
  },
  "papermill": {
   "duration": 2589.188642,
   "end_time": "2020-11-29T02:49:17.784178",
   "environment_variables": {},
   "exception": null,
   "input_path": "__notebook__.ipynb",
   "output_path": "__notebook__.ipynb",
   "parameters": {},
   "start_time": "2020-11-29T02:06:08.595536",
   "version": "2.1.0"
  }
 },
 "nbformat": 4,
 "nbformat_minor": 4
}
